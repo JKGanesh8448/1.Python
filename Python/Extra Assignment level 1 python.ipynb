{
 "cells": [
  {
   "cell_type": "code",
   "execution_count": null,
   "metadata": {},
   "outputs": [],
   "source": [
    "#Coding for print statement"
   ]
  },
  {
   "cell_type": "code",
   "execution_count": null,
   "metadata": {},
   "outputs": [],
   "source": [
    "print(\"HOPE AI\")"
   ]
  },
  {
   "cell_type": "code",
   "execution_count": null,
   "metadata": {},
   "outputs": [],
   "source": [
    "#Coding for Buy input"
   ]
  },
  {
   "cell_type": "code",
   "execution_count": null,
   "metadata": {},
   "outputs": [],
   "source": [
    "input(\"Enter your Institue name?: \")\n",
    "print()\n"
   ]
  },
  {
   "cell_type": "code",
   "execution_count": null,
   "metadata": {},
   "outputs": [],
   "source": [
    "#Coding for Buy input"
   ]
  },
  {
   "cell_type": "code",
   "execution_count": null,
   "metadata": {},
   "outputs": [],
   "source": [
    "input(\"Enter your Name: \")\n",
    "input(\"Enter Your Age: \")\n",
    "input(\"Enter Your School Name: \")\n",
    "input(\"Enter Your Degree: \")\n",
    "print()"
   ]
  },
  {
   "cell_type": "code",
   "execution_count": null,
   "metadata": {},
   "outputs": [],
   "source": [
    "#Coding for Addition"
   ]
  },
  {
   "cell_type": "code",
   "execution_count": null,
   "metadata": {},
   "outputs": [],
   "source": [
    "a = 43\n",
    "b = 34\n",
    "add = a+b\n",
    "print(\"a = \",a)\n",
    "print(\"b = \",b)\n",
    "print(\"add =\",add)"
   ]
  },
  {
   "cell_type": "code",
   "execution_count": null,
   "metadata": {},
   "outputs": [],
   "source": [
    "# Coding for Subtraction"
   ]
  },
  {
   "cell_type": "code",
   "execution_count": null,
   "metadata": {},
   "outputs": [],
   "source": [
    "a = 43\n",
    "b = 34\n",
    "Sub = a-b\n",
    "print(\"a = \",a)\n",
    "print(\"b = \",b)\n",
    "print(\"Sub =\",Sub)"
   ]
  },
  {
   "cell_type": "code",
   "execution_count": null,
   "metadata": {},
   "outputs": [],
   "source": [
    "#Coding for Multiplication"
   ]
  },
  {
   "cell_type": "code",
   "execution_count": null,
   "metadata": {},
   "outputs": [],
   "source": [
    "a = 63\n",
    "b = 97\n",
    "Mul = a*b\n",
    "print(\"a = \",a)\n",
    "print(\"b = \",b)\n",
    "print(\"Mul =\",Mul)"
   ]
  },
  {
   "cell_type": "code",
   "execution_count": null,
   "metadata": {},
   "outputs": [],
   "source": [
    "#Coding for Division"
   ]
  },
  {
   "cell_type": "code",
   "execution_count": null,
   "metadata": {},
   "outputs": [],
   "source": [
    "a = 76\n",
    "b = 31\n",
    "Div = a/b\n",
    "print(\"a = \",a)\n",
    "print(\"b = \",b)\n",
    "print(\"Div =\",Div)"
   ]
  },
  {
   "cell_type": "code",
   "execution_count": null,
   "metadata": {},
   "outputs": [],
   "source": [
    "#Coding for Floor Division"
   ]
  },
  {
   "cell_type": "code",
   "execution_count": null,
   "metadata": {},
   "outputs": [],
   "source": [
    "a = 76\n",
    "b = 31\n",
    "Floordiv = a//b\n",
    "print(\"a = \",a)\n",
    "print(\"b = \",b)\n",
    "print(\"Floordiv = \",Floordiv)"
   ]
  },
  {
   "cell_type": "code",
   "execution_count": null,
   "metadata": {},
   "outputs": [],
   "source": [
    "#Coding for Modulo"
   ]
  },
  {
   "cell_type": "code",
   "execution_count": null,
   "metadata": {},
   "outputs": [],
   "source": [
    "a = 76\n",
    "b = 31\n",
    "Modulo = a%b\n",
    "print(\"a = \",a)\n",
    "print(\"b = \",b)\n",
    "print(\"Modulo = \",Modulo)"
   ]
  },
  {
   "cell_type": "code",
   "execution_count": null,
   "metadata": {},
   "outputs": [],
   "source": [
    "#Coding for Power"
   ]
  },
  {
   "cell_type": "code",
   "execution_count": 3,
   "metadata": {},
   "outputs": [
    {
     "name": "stdout",
     "output_type": "stream",
     "text": [
      "a =  4\n",
      "b =  4\n",
      "power : \n",
      "256\n"
     ]
    }
   ],
   "source": [
    "a = 4\n",
    "b = 4\n",
    "power = a#b\n",
    "print(\"a = \",a)\n",
    "print(\"b = \",b)\n",
    "print(\"power : \",)\n",
    "print(pow(4,4))"
   ]
  }
 ],
 "metadata": {
  "kernelspec": {
   "display_name": "Python 3",
   "language": "python",
   "name": "python3"
  },
  "language_info": {
   "codemirror_mode": {
    "name": "ipython",
    "version": 3
   },
   "file_extension": ".py",
   "mimetype": "text/x-python",
   "name": "python",
   "nbconvert_exporter": "python",
   "pygments_lexer": "ipython3",
   "version": "3.7.4"
  }
 },
 "nbformat": 4,
 "nbformat_minor": 2
}
