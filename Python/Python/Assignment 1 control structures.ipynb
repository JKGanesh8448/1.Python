{
 "cells": [
  {
   "cell_type": "code",
   "execution_count": 29,
   "metadata": {},
   "outputs": [
    {
     "name": "stdout",
     "output_type": "stream",
     "text": [
      "Welcome to Assignment 1\n"
     ]
    }
   ],
   "source": [
    "print(\"Welcome to Assignment 1\")"
   ]
  },
  {
   "cell_type": "code",
   "execution_count": 30,
   "metadata": {},
   "outputs": [
    {
     "name": "stdout",
     "output_type": "stream",
     "text": [
      "num1 = 10\n",
      "num2 = 30\n",
      "add = 40\n"
     ]
    }
   ],
   "source": [
    "\n",
    "num1=int(input(\"num1 = \"))\n",
    "num2=int(input(\"num2 = \"))\n",
    "add=(num1+num2)\n",
    "print(\"add =\",add)\n",
    "\n",
    "\n",
    "\n"
   ]
  },
  {
   "cell_type": "code",
   "execution_count": null,
   "metadata": {},
   "outputs": [],
   "source": [
    "#Body Mass Index"
   ]
  },
  {
   "cell_type": "code",
   "execution_count": 51,
   "metadata": {},
   "outputs": [
    {
     "name": "stdout",
     "output_type": "stream",
     "text": [
      "Enter the BMI Index: 35\n",
      "Grade2 obesity\n"
     ]
    }
   ],
   "source": [
    "BMI = int(input(\"Enter the BMI Index: \"))\n",
    "if BMI<18:\n",
    "    print(\"Underweight\")\n",
    "elif BMI<25:\n",
    "    print(\"Healthy range\")\n",
    "elif BMI<30:\n",
    "    print(\"Overweight\")\n",
    "elif BMI<35:\n",
    "    print(\"Grade1 Obesity\")\n",
    "elif BMI<40:\n",
    "    print(\"Grade2 obesity\")\n",
    "else:\n",
    "    print(\"Grade3 orbit obesity\")"
   ]
  },
  {
   "cell_type": "code",
   "execution_count": 11,
   "metadata": {},
   "outputs": [
    {
     "name": "stdout",
     "output_type": "stream",
     "text": [
      "To calculate BMI of a person\n",
      "Enter your name: Ganesh\n",
      "Enter the height in cm: 171\n",
      "Enter the weight in kgs: 100\n",
      "Grade1 Obesity\n"
     ]
    }
   ],
   "source": [
    "print(\"To calculate BMI of a person\")\n",
    "name = input(\"Enter your name: \")\n",
    "height = int(input(\"Enter the height in cm: \"))\n",
    "weight = int(input(\"Enter the weight in kgs: \"))\n",
    "BMI = weight/(height/100)**2\n",
    "if BMI<18:\n",
    "    print(\"Underweight\")\n",
    "elif BMI<25:\n",
    "    print(\"Healthy range\")\n",
    "elif BMI<30:\n",
    "    print(\"Overweight\")\n",
    "elif BMI<35:\n",
    "    print(\"Grade1 Obesity\")\n",
    "elif BMI<40:\n",
    "    print(\"Grade2 obesity\")\n",
    "else:\n",
    "    print(\"Grade3 orbit obesity\")"
   ]
  },
  {
   "cell_type": "code",
   "execution_count": null,
   "metadata": {},
   "outputs": [],
   "source": []
  },
  {
   "cell_type": "code",
   "execution_count": null,
   "metadata": {},
   "outputs": [],
   "source": []
  }
 ],
 "metadata": {
  "kernelspec": {
   "display_name": "Python 3",
   "language": "python",
   "name": "python3"
  },
  "language_info": {
   "codemirror_mode": {
    "name": "ipython",
    "version": 3
   },
   "file_extension": ".py",
   "mimetype": "text/x-python",
   "name": "python",
   "nbconvert_exporter": "python",
   "pygments_lexer": "ipython3",
   "version": "3.7.4"
  }
 },
 "nbformat": 4,
 "nbformat_minor": 2
}
