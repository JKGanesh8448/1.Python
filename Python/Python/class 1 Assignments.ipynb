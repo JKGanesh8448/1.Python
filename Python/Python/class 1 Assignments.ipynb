{
 "cells": [
  {
   "cell_type": "code",
   "execution_count": 4,
   "metadata": {},
   "outputs": [],
   "source": [
    "from multiplefunctions1 import multiplefunctions"
   ]
  },
  {
   "cell_type": "code",
   "execution_count": 5,
   "metadata": {},
   "outputs": [
    {
     "name": "stdout",
     "output_type": "stream",
     "text": [
      "Subfields in AI are : \n",
      "Machine learning\n",
      "Deep learning\n",
      "Natural language processing\n",
      "Time series analysis\n",
      "Robotics\n",
      "Data Science\n",
      "Neural Networks\n"
     ]
    }
   ],
   "source": [
    "multiplefunctions.subfields()"
   ]
  },
  {
   "cell_type": "code",
   "execution_count": 6,
   "metadata": {},
   "outputs": [
    {
     "name": "stdout",
     "output_type": "stream",
     "text": [
      "Enter a number: 7\n",
      "The given number is odd\n"
     ]
    }
   ],
   "source": [
    "multiplefunctions.OddEven()"
   ]
  },
  {
   "cell_type": "code",
   "execution_count": 8,
   "metadata": {},
   "outputs": [
    {
     "name": "stdout",
     "output_type": "stream",
     "text": [
      "Enter the Sex:male\n",
      "Enter the age: 22\n",
      "Eligible\n"
     ]
    }
   ],
   "source": [
    "multiplefunctions.agecategory()"
   ]
  },
  {
   "cell_type": "code",
   "execution_count": 9,
   "metadata": {},
   "outputs": [
    {
     "name": "stdout",
     "output_type": "stream",
     "text": [
      "Enter the Marks in English: 98\n",
      "Enter the Marks in Tamil: 99\n",
      "Enter the Marks in Maths: 97\n",
      "Enter the Marks in Science: 96\n",
      "Enter the Marks in Social: 95\n",
      "Your total Marks:  485\n",
      "Percentage:  97.0\n"
     ]
    }
   ],
   "source": [
    "multiplefunctions.percentage()"
   ]
  },
  {
   "cell_type": "code",
   "execution_count": 10,
   "metadata": {},
   "outputs": [
    {
     "name": "stdout",
     "output_type": "stream",
     "text": [
      "Height: 2\n",
      "Breadth: 2\n",
      "Area of a Triangle:  2.0\n",
      "Height1: 2\n",
      "Height2: 2\n",
      "Breadth: 2\n",
      "Perimeter of a Triangle:  6\n"
     ]
    }
   ],
   "source": [
    "multiplefunctions.area_of_triangle()\n",
    "multiplefunctions.perimeter_of_triangle()"
   ]
  },
  {
   "cell_type": "code",
   "execution_count": null,
   "metadata": {},
   "outputs": [],
   "source": []
  }
 ],
 "metadata": {
  "kernelspec": {
   "display_name": "Python 3",
   "language": "python",
   "name": "python3"
  },
  "language_info": {
   "codemirror_mode": {
    "name": "ipython",
    "version": 3
   },
   "file_extension": ".py",
   "mimetype": "text/x-python",
   "name": "python",
   "nbconvert_exporter": "python",
   "pygments_lexer": "ipython3",
   "version": "3.7.4"
  }
 },
 "nbformat": 4,
 "nbformat_minor": 2
}
