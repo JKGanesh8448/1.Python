{
 "cells": [
  {
   "cell_type": "code",
   "execution_count": null,
   "metadata": {},
   "outputs": [],
   "source": [
    "# Coding to create Function"
   ]
  },
  {
   "cell_type": "code",
   "execution_count": 2,
   "metadata": {},
   "outputs": [],
   "source": [
    "def subfields():\n",
    "    print(\"Subfields in AI are : \")\n",
    "    print(\"Machine learning\")\n",
    "    print(\"Deep learning\")\n",
    "    print(\"Natural language processing\")\n",
    "    print(\"Time series analysis\")\n",
    "    print(\"Robotics\")\n",
    "    print(\"Data Science\")\n",
    "    print(\"Neural Networks\")\n",
    "    return"
   ]
  },
  {
   "cell_type": "code",
   "execution_count": 3,
   "metadata": {},
   "outputs": [
    {
     "name": "stdout",
     "output_type": "stream",
     "text": [
      "Subfields in AI are : \n",
      "Machine learning\n",
      "Deep learning\n",
      "Natural language processing\n",
      "Time series analysis\n",
      "Robotics\n",
      "Data Science\n",
      "Neural Networks\n"
     ]
    }
   ],
   "source": [
    "subfields()"
   ]
  },
  {
   "cell_type": "code",
   "execution_count": null,
   "metadata": {},
   "outputs": [],
   "source": [
    "# Coding to create whether the given number is odd or even"
   ]
  },
  {
   "cell_type": "code",
   "execution_count": 4,
   "metadata": {},
   "outputs": [],
   "source": [
    "def OddEven():\n",
    "    num=int(input(\"Enter a number: \"))\n",
    "    if(num%2==1):\n",
    "        print(\"The given number is odd\")\n",
    "    else:\n",
    "        print(\"The given number is even\")\n",
    "    return"
   ]
  },
  {
   "cell_type": "code",
   "execution_count": 5,
   "metadata": {},
   "outputs": [
    {
     "name": "stdout",
     "output_type": "stream",
     "text": [
      "Enter a number: 5\n",
      "The given number is odd\n"
     ]
    }
   ],
   "source": [
    "OddEven()"
   ]
  },
  {
   "cell_type": "code",
   "execution_count": null,
   "metadata": {},
   "outputs": [],
   "source": [
    "# Coding to create a function that tells eligibility of marriage for male and female according to their age eligibility for \n",
    "# male is 21 and female is 18"
   ]
  },
  {
   "cell_type": "code",
   "execution_count": 21,
   "metadata": {},
   "outputs": [],
   "source": [
    "def agecategory():\n",
    "    sex=input(\"Enter the Sex:\")\n",
    "    age=int(input(\"Enter the age: \"))\n",
    "    if(sex=='male'):\n",
    "        if(age>=21):\n",
    "            print(\"Eligible\")\n",
    "        else:\n",
    "            print(\"Not Eligible\")\n",
    "    elif(sex=='female'):\n",
    "        if(age>=18):\n",
    "            print(\"Eligible\")\n",
    "        else:\n",
    "            print(\"Not Eligible\")\n",
    "        return"
   ]
  },
  {
   "cell_type": "code",
   "execution_count": 22,
   "metadata": {},
   "outputs": [
    {
     "name": "stdout",
     "output_type": "stream",
     "text": [
      "Enter the Sex:male\n",
      "Enter the age: 20\n",
      "Not Eligible\n"
     ]
    }
   ],
   "source": [
    "agecategory()"
   ]
  },
  {
   "cell_type": "code",
   "execution_count": null,
   "metadata": {},
   "outputs": [],
   "source": [
    "# Coding to calculate the percentage of 10th mark"
   ]
  },
  {
   "cell_type": "code",
   "execution_count": 14,
   "metadata": {},
   "outputs": [],
   "source": [
    "def percentage():\n",
    "    S1=int(input(\"Enter the Marks in English: \"))\n",
    "    S2=int(input(\"Enter the Marks in Tamil: \"))\n",
    "    S3=int(input(\"Enter the Marks in Maths: \"))\n",
    "    S4=int(input(\"Enter the Marks in Science: \"))\n",
    "    S5=int(input(\"Enter the Marks in Social: \"))\n",
    "    total=S1+S2+S3+S4+S5\n",
    "    print(\"Your total Marks: \",total)\n",
    "    percentage=total/500*100\n",
    "    print(\"Percentage: \",percentage)\n",
    "    \n",
    "\n",
    "\n"
   ]
  },
  {
   "cell_type": "code",
   "execution_count": 15,
   "metadata": {},
   "outputs": [
    {
     "name": "stdout",
     "output_type": "stream",
     "text": [
      "Enter the Marks in English: 97\n",
      "Enter the Marks in Tamil: 96\n",
      "Enter the Marks in Maths: 95\n",
      "Enter the Marks in Science: 94\n",
      "Enter the Marks in Social: 93\n",
      "Your total Marks:  475\n",
      "Percentage:  95.0\n"
     ]
    }
   ],
   "source": [
    "percentage()"
   ]
  },
  {
   "cell_type": "code",
   "execution_count": null,
   "metadata": {},
   "outputs": [],
   "source": [
    "# Coding to print the area and perimeter of a triangle using class and function"
   ]
  },
  {
   "cell_type": "code",
   "execution_count": 12,
   "metadata": {},
   "outputs": [],
   "source": [
    "def area_of_triangle():\n",
    "    Height=int(input(\"Height: \"))\n",
    "    Breadth=int(input(\"Breadth: \"))\n",
    "    area_of_triangle=Height*Breadth/2\n",
    "    print(\"Area of a Triangle: \",area_of_triangle)\n",
    "def perimeter_of_triangle():\n",
    "    Height1=int(input(\"Height1: \"))\n",
    "    Height2=int(input(\"Height2: \"))\n",
    "    Breadth=int(input(\"Breadth: \"))\n",
    "    perimeter_of_triangle=Height1+Height2+Breadth\n",
    "    print(\"Perimeter of a Triangle: \",perimeter_of_triangle)\n",
    "    return"
   ]
  },
  {
   "cell_type": "code",
   "execution_count": 13,
   "metadata": {},
   "outputs": [
    {
     "name": "stdout",
     "output_type": "stream",
     "text": [
      "Height: 2\n",
      "Breadth: 3\n",
      "Area of a Triangle:  3.0\n",
      "Height1: 2\n",
      "Height2: 2\n",
      "Breadth: 2\n",
      "Perimeter of a Triangle:  6\n"
     ]
    }
   ],
   "source": [
    "area_of_triangle()\n",
    "perimeter_of_triangle()"
   ]
  },
  {
   "cell_type": "code",
   "execution_count": null,
   "metadata": {},
   "outputs": [],
   "source": []
  }
 ],
 "metadata": {
  "kernelspec": {
   "display_name": "Python 3",
   "language": "python",
   "name": "python3"
  },
  "language_info": {
   "codemirror_mode": {
    "name": "ipython",
    "version": 3
   },
   "file_extension": ".py",
   "mimetype": "text/x-python",
   "name": "python",
   "nbconvert_exporter": "python",
   "pygments_lexer": "ipython3",
   "version": "3.7.4"
  }
 },
 "nbformat": 4,
 "nbformat_minor": 2
}
